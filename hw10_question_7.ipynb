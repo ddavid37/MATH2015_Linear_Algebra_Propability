{
 "cells": [
  {
   "cell_type": "code",
   "execution_count": 1,
   "metadata": {},
   "outputs": [
    {
     "name": "stdout",
     "output_type": "stream",
     "text": [
      "Solution (r0, r1, r2, r3): [-5.18899522  0.338437    0.51275917  0.7085327 ]\n"
     ]
    }
   ],
   "source": [
    "import numpy as np\n",
    "\n",
    "# Define the matrix A and vector y\n",
    "A = np.array([\n",
    "    [1, 50, 18, 10],\n",
    "    [1, 40, 20, 16],\n",
    "    [1, 35, 14, 10],\n",
    "    [1, 40, 12, 12],\n",
    "    [1, 30, 16, 14]\n",
    "])\n",
    "y = np.array([28, 30, 21, 23, 23])\n",
    "\n",
    "# Compute A^T * A and A^T * y\n",
    "ATA = A.T @ A\n",
    "ATy = A.T @ y\n",
    "\n",
    "# Solve the system (A^T * A) * r = A^T * y\n",
    "r = np.linalg.solve(ATA, ATy)\n",
    "\n",
    "# Display the solution\n",
    "print(\"Solution (r0, r1, r2, r3):\", r)\n"
   ]
  }
 ],
 "metadata": {
  "kernelspec": {
   "display_name": "base",
   "language": "python",
   "name": "python3"
  },
  "language_info": {
   "codemirror_mode": {
    "name": "ipython",
    "version": 3
   },
   "file_extension": ".py",
   "mimetype": "text/x-python",
   "name": "python",
   "nbconvert_exporter": "python",
   "pygments_lexer": "ipython3",
   "version": "3.12.7"
  }
 },
 "nbformat": 4,
 "nbformat_minor": 2
}
