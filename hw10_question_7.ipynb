{
 "cells": [
  {
   "cell_type": "code",
   "execution_count": null,
   "metadata": {
    "vscode": {
     "languageId": "plaintext"
    }
   },
   "outputs": [],
   "source": [
    "import numpy as np\n",
    "\n",
    "# Define the matrix A and vector y\n",
    "A = np.array([\n",
    "    [1, 50, 18, 10],\n",
    "    [1, 40, 20, 16],\n",
    "    [1, 35, 14, 10],\n",
    "    [1, 40, 12, 12],\n",
    "    [1, 30, 16, 14]\n",
    "])\n",
    "y = np.array([28, 30, 21, 23, 23])\n",
    "\n",
    "# Compute A^T * A and A^T * y\n",
    "ATA = A.T @ A\n",
    "ATy = A.T @ y\n",
    "\n",
    "# Solve the system (A^T * A) * r = A^T * y\n",
    "r = np.linalg.solve(ATA, ATy)\n",
    "\n",
    "# Display the solution\n",
    "print(\"Solution (r0, r1, r2, r3):\", r)\n"
   ]
  }
 ],
 "metadata": {
  "language_info": {
   "name": "python"
  }
 },
 "nbformat": 4,
 "nbformat_minor": 2
}
